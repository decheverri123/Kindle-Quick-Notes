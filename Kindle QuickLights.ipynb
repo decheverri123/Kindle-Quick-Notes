{
 "cells": [
  {
   "cell_type": "markdown",
   "metadata": {},
   "source": [
    "# Kindle QuickLights"
   ]
  },
  {
   "cell_type": "markdown",
   "metadata": {},
   "source": [
    "Very simple to use script. Make sure that the Clippings.txt text that comes in your kindle is in the directory where this notebook lives. Type in the name of the book you wish extract notes from and open up your newly created file with your new highlights in perfect form for transport to OneNote, Evernote, or any other note organization platform of your choosing."
   ]
  },
  {
   "cell_type": "code",
   "execution_count": 180,
   "metadata": {
    "collapsed": true
   },
   "outputs": [],
   "source": [
    "def Kindle(file, name):\n",
    "    title = name\n",
    "    sign = '=========='\n",
    "    your = '- Your'\n",
    "    g = open(file+\" new\", 'w')\n",
    "    with open(file, 'r') as f:\n",
    "        data = f.readlines()\n",
    "        for line in data:\n",
    "            if title in line or sign in line or your in line:\n",
    "                continue;\n",
    "            else:\n",
    "                g.write(line)"
   ]
  },
  {
   "cell_type": "markdown",
   "metadata": {},
   "source": [
    "Example:"
   ]
  },
  {
   "cell_type": "code",
   "execution_count": 181,
   "metadata": {
    "collapsed": true
   },
   "outputs": [],
   "source": [
    "Kindle('Art.txt', 'The War of Art (Pressfield, Steven)')"
   ]
  }
 ],
 "metadata": {
  "kernelspec": {
   "display_name": "Python 3",
   "language": "python",
   "name": "python3"
  },
  "language_info": {
   "codemirror_mode": {
    "name": "ipython",
    "version": 3
   },
   "file_extension": ".py",
   "mimetype": "text/x-python",
   "name": "python",
   "nbconvert_exporter": "python",
   "pygments_lexer": "ipython3",
   "version": "3.5.3"
  }
 },
 "nbformat": 4,
 "nbformat_minor": 2
}
